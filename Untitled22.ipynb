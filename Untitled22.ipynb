{
  "nbformat": 4,
  "nbformat_minor": 0,
  "metadata": {
    "colab": {
      "provenance": [],
      "authorship_tag": "ABX9TyOQRuOfnX1ZGUosOhbJOBkT",
      "include_colab_link": true
    },
    "kernelspec": {
      "name": "python3",
      "display_name": "Python 3"
    },
    "language_info": {
      "name": "python"
    }
  },
  "cells": [
    {
      "cell_type": "markdown",
      "metadata": {
        "id": "view-in-github",
        "colab_type": "text"
      },
      "source": [
        "<a href=\"https://colab.research.google.com/github/dyna478/Paz/blob/main/Untitled22.ipynb\" target=\"_parent\"><img src=\"https://colab.research.google.com/assets/colab-badge.svg\" alt=\"Open In Colab\"/></a>"
      ]
    },
    {
      "cell_type": "code",
      "execution_count": null,
      "metadata": {
        "id": "0WOtkW0pClCo"
      },
      "outputs": [],
      "source": [
        "df = pd.read_csv('/content/financial_anomaly_data.csv')\n",
        "print(df.head())"
      ]
    },
    {
      "cell_type": "code",
      "source": [
        "unique_transaction_types = df['TransactionType'].unique()\n",
        "print(unique_transaction_types)"
      ],
      "metadata": {
        "id": "pQOWuVNCCqeU"
      },
      "execution_count": null,
      "outputs": []
    },
    {
      "cell_type": "code",
      "source": [
        "print(df.isnull().sum())\n",
        "df = df.dropna()\n",
        "df['Amount'].fillna(df['Amount'].median(), inplace=True)\n",
        "df['Timestamp'] = pd.to_datetime(df['Timestamp'], format='%d-%m-%Y %H:%M')\n",
        "df['Hour'] = df['Timestamp'].dt.hour\n",
        "df['DayOfWeek'] = df['Timestamp'].dt.dayofweek\n",
        "df['Month'] = df['Timestamp'].dt.month"
      ],
      "metadata": {
        "id": "CXMuyiKlCsld"
      },
      "execution_count": null,
      "outputs": []
    },
    {
      "cell_type": "code",
      "source": [
        "import numpy as np\n",
        "from sklearn.preprocessing import StandardScaler\n",
        "\n",
        "df['Amount_log'] = np.log(df['Amount'] + 1)\n",
        "df['Amount_abs'] = df['Amount'].abs()\n",
        "df = pd.get_dummies(df, columns=['TransactionType', 'Merchant', 'Location'], drop_first=True)\n",
        "scaler = StandardScaler()\n",
        "df[['Amount_log', 'Hour', 'DayOfWeek']] = scaler.fit_transform(df[['Amount_log', 'Hour', 'DayOfWeek']])"
      ],
      "metadata": {
        "id": "Bs8Dy1heDAWE"
      },
      "execution_count": null,
      "outputs": []
    },
    {
      "cell_type": "code",
      "source": [
        "df_aggregated = df.groupby(['AccountID', pd.Grouper(key='Timestamp', freq='D')]).agg({\n",
        "    'Amount': 'sum',\n",
        "    'TransactionID': 'count'\n",
        "}).reset_index()\n",
        "\n",
        "df_aggregated.rename(columns={'Amount': 'Total_Amount', 'TransactionID': 'Transaction_Count'}, inplace=True)\n",
        "\n",
        "df.to_csv('preprocessed_transactions.csv', index=False)"
      ],
      "metadata": {
        "id": "PbwIq4alDClj"
      },
      "execution_count": null,
      "outputs": []
    },
    {
      "cell_type": "code",
      "source": [
        "\n",
        "Q1 = df1['Amount'].quantile(0.25)\n",
        "Q3 = df1['Amount'].quantile(0.75)\n",
        "IQR = Q3 - Q1\n",
        "\n",
        "upper_threshold = Q3 + 3 * IQR\n",
        "lower_threshold = Q1 - 3 * IQR\n",
        "\n",
        "\n",
        "df1['Anomaly'] = np.where(\n",
        "    (df1['Amount'] > upper_threshold) | (df1['Amount'] < lower_threshold),\n",
        "    1,  # Anomaly\n",
        "    0\n",
        ")\n",
        "\n",
        "num_anomalies = df1['Anomaly'].sum()\n",
        "print(f\"Number of anomalies detected: {num_anomalies}\")\n",
        "\n",
        "print(df1.head(20))\n",
        "\n",
        "anomaly_rows = df1[df1['Anomaly'] == 1]\n",
        "\n",
        "print(anomaly_rows)\n",
        "\n"
      ],
      "metadata": {
        "id": "nJtFLO3FC4PE"
      },
      "execution_count": null,
      "outputs": []
    },
    {
      "cell_type": "code",
      "source": [
        "import pandas as pd\n",
        "import numpy as np\n",
        "import matplotlib.pyplot as plt\n",
        "from statsmodels.graphics.tsaplots import plot_acf, plot_pacf\n",
        "from statsmodels.tsa.stattools import adfuller\n",
        "\n",
        "df1['Timestamp'] = pd.to_datetime(df1['Timestamp'])\n",
        "df1= df1.sort_values('Timestamp')\n",
        "df_daily = df1.groupby(pd.Grouper(key='Timestamp', freq='D')).agg({'Amount': 'sum'}).reset_index()\n",
        "plt.figure(figsize=(12, 6))\n",
        "plt.plot(df_daily['Timestamp'], df_daily['Amount'])\n",
        "plt.title('Daily Transaction Amount Over Time')\n",
        "plt.xlabel('Timestamp')\n",
        "plt.ylabel('Amount')\n",
        "plt.show()\n",
        "\n",
        "plt.figure(figsize=(12, 6))\n",
        "plot_acf(df_daily['Amount'], lags=40, title='Autocorrelation Function (ACF)')\n",
        "plt.show()\n",
        "\n",
        "plt.figure(figsize=(12, 6))\n",
        "plot_pacf(df_daily['Amount'], lags=40, title='Partial Autocorrelation Function (PACF)')\n",
        "plt.show()\n",
        "\n",
        "def adf_test(series):\n",
        "    result = adfuller(series)\n",
        "    print('ADF Statistic:', result[0])\n",
        "    print('p-value:', result[1])\n",
        "    print('Critical Values:')\n",
        "    for key, value in result[4].items():\n",
        "        print(f'   {key}: {value}')\n",
        "    if result[1] <= 0.05:\n",
        "        print(\"The series is stationary.\")\n",
        "    else:\n",
        "        print(\"The series is non-stationary.\")\n",
        "\n",
        "adf_test(df_daily['Amount'])"
      ],
      "metadata": {
        "id": "MOMuT9R1HmZt"
      },
      "execution_count": null,
      "outputs": []
    },
    {
      "cell_type": "code",
      "source": [
        "import pandas as pd\n",
        "from statsmodels.tsa.stattools import adfuller\n",
        "\n",
        "df1['Timestamp'] = pd.to_datetime(df['Timestamp'])\n",
        "df1 = df1.sort_values('Timestamp')\n",
        "df_daily = df1.groupby(pd.Grouper(key='Timestamp', freq='D')).agg({'Amount': 'sum'}).reset_index()\n",
        "\n",
        "def adf_test(series):\n",
        "    result = adfuller(series)\n",
        "    print('ADF Statistic:', result[0])\n",
        "    print('p-value:', result[1])\n",
        "    print('Critical Values:')\n",
        "    for key, value in result[4].items():\n",
        "        print(f'   {key}: {value}')\n",
        "    if result[1] <= 0.05:\n",
        "        print(\"The series is stationary.\")\n",
        "    else:\n",
        "        print(\"The series is non-stationary.\")\n",
        "adf_test(df_daily['Amount'])"
      ],
      "metadata": {
        "id": "hLYAoSH3HpJs"
      },
      "execution_count": null,
      "outputs": []
    }
  ]
}